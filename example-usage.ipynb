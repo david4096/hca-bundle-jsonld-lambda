{
 "cells": [
  {
   "cell_type": "markdown",
   "metadata": {},
   "source": [
    "# HCA Bundle JSON-LD Lambda\n",
    "\n",
    "This software will take a fully formed HCA bundle, add JSON-LD context using [hca-bundle-jsonld](https://github.com/simonjupp/hca-bundle-jsonld), and then return the RDF as a turtle file to the client.\n",
    "\n",
    "This resulting file can be stored in a graph store or queried on disk.\n",
    "\n",
    "Usage is easy, just go to the URL https://p2tjtw12mg.execute-api.us-east-1.amazonaws.com/api/4be0071d-b36e-4414-a7ee-7b879f60be7c , where the ending part of the path is your bundle of interest."
   ]
  },
  {
   "cell_type": "markdown",
   "metadata": {},
   "source": [
    "## HCA Bundles"
   ]
  },
  {
   "cell_type": "markdown",
   "metadata": {},
   "source": [
    "First of all, you'll need an ID for a lambda that has \"well-formed metadata\" according to the HCA spec. This one might not be stable, let us know in the issues if you can't find a bundle to test against."
   ]
  },
  {
   "cell_type": "code",
   "execution_count": 4,
   "metadata": {},
   "outputs": [
    {
     "name": "stdout",
     "output_type": "stream",
     "text": [
      "8\n"
     ]
    }
   ],
   "source": [
    "import requests\n",
    "DSS_URL = \"https://dss.dev.data.humancellatlas.org/v1\"\n",
    "bundle_uuid = \"4be0071d-b36e-4414-a7ee-7b879f60be7c\"\n",
    "r = requests.get(\"{}/bundles/{}?replica=aws\".format(DSS_URL, bundle_uuid))\n",
    "print(len(r.json()['bundle']['files']))"
   ]
  },
  {
   "cell_type": "markdown",
   "metadata": {},
   "source": [
    "This happens to be a bundle that has the latest well formed, and actual sequence data and metadata in it for testing.\n"
   ]
  },
  {
   "cell_type": "code",
   "execution_count": 8,
   "metadata": {},
   "outputs": [
    {
     "name": "stdout",
     "output_type": "stream",
     "text": [
      "SRR3934349_1.fastq.gz\n"
     ]
    }
   ],
   "source": [
    "print(r.json()['bundle']['files'][2])['name']"
   ]
  },
  {
   "cell_type": "markdown",
   "metadata": {},
   "source": [
    "## Getting the Turtle\n",
    "\n",
    "Let's use the requests module to get the resulting turtle. This could then be loaded into a triplet store, or locally queried using `rdflib`. We'll print the few couple of lines for demonstration."
   ]
  },
  {
   "cell_type": "code",
   "execution_count": 9,
   "metadata": {},
   "outputs": [
    {
     "name": "stdout",
     "output_type": "stream",
     "text": [
      "@prefix : <http://rdf.data.humancellatlas.org/> .\n",
      "@prefix rdf: <http://www.w3.org/1999/02/22-rdf-syn\n"
     ]
    }
   ],
   "source": [
    "response = requests.get('https://p2tjtw12mg.execute-api.us-east-1.amazonaws.com/api/4be0071d-b36e-4414-a7ee-7b879f60be7c')\n",
    "print(response.text[:300])"
   ]
  },
  {
   "cell_type": "markdown",
   "metadata": {},
   "source": [
    "You can use `wget`, `curl`, or a web browser to see the same data! https://p2tjtw12mg.execute-api.us-east-1.amazonaws.com/api/4be0071d-b36e-4414-a7ee-7b879f60be7c"
   ]
  },
  {
   "cell_type": "code",
   "execution_count": 11,
   "metadata": {},
   "outputs": [
    {
     "name": "stdout",
     "output_type": "stream",
     "text": [
      "@prefix : <http://rdf.data.humancellatlas.org/> .\r\n",
      "@prefix rdf: <http://www.w3.org/1999/02/22-rdf-syntax-ns#> .\r\n",
      "@prefix rdfs: <http://www.w3.org/2000/01/rdf-schema#> .\r\n",
      "@prefix xml: <http://www.w3.org/XML/1998/namespace> .\r\n",
      "@prefix xsd: <http://www.w3.org/2001/XMLSchema#> .\r\n",
      "\r\n",
      "<https://dss.dev.data.humancellatlas.org/v1/files/47ee6a01-e3c8-4e01-87e5-ca95e20f5cd0> a <https://schema.humancellatlas.org/bundle/5.2.1/process> ;\r\n",
      "    :processes [ :content [ a <https://schema.humancellatlas.org/type/process/1.0.0/process> ;\r\n",
      "                    :process_core [ :process_id \"sampling_process_5\" ] ;\r\n",
      "                    :schema_type \"process\" ] ;\r\n",
      "            :hca_ingest [ :accession \"\" ;\r\n",
      "                    :document_id :dd2b1009-5b3c-498c-9ab9-431a6aed1f06 ;\r\n",
      "                    :submissionDate \"2018-03-19T18:33:40.036Z\" ;\r\n",
      "                    :updateDate \"2018-03-19T18:33:47.849Z\" ] ],\r\n",
      "        [ :content [ a <https://schema.humancellatlas.org/type/process/sequencing/5.1.0/library_preparation_process> ;\r\n",
      "                    :end_bias \"full length\" ;\r\n",
      "                    :input_nucleic_acid_molecule [ :text \"polyA RNA\" ] ;\r\n",
      "                    :library_construction_approach \"Smart-seq2\" ;\r\n",
      "                    :process_core [ :process_id \"lib_prep_proc_1\" ] ;\r\n",
      "                    :schema_type \"process\" ;\r\n",
      "                    :strand \"unstranded\" ] ;\r\n",
      "            :hca_ingest [ :accession \"\" ;\r\n",
      "                    :document_id <http://rdf.data.humancellatlas.org/4dc8591a-a712-4e0d-9006-55534b389a0d> ;\r\n",
      "                    :submissionDate \"2018-03-19T18:47:47.218Z\" ;\r\n",
      "                    :updateDate \"2018-03-19T19:16:31.074Z\" ] ],\r\n",
      "        [ :content [ a <https://schema.humancellatlas.org/type/process/biomaterial_collection/5.1.0/dissociation_process> ;\r\n",
      "                    :dissociation_method \"FACS\" ;\r\n",
      "                    :nucleic_acid_source \"single cell\" ;\r\n",
      "                    :process_core [ :process_id \"dis_proc_3\" ] ;\r\n",
      "                    :schema_type \"process\" ] ;\r\n",
      "            :hca_ingest [ :accession \"\" ;\r\n",
      "                    :document_id :c739d5a9-89ca-4348-9caf-05bd9a4dc2d8 ;\r\n",
      "                    :submissionDate \"2018-03-19T19:29:34.623Z\" ;\r\n",
      "                    :updateDate \"2018-03-19T19:30:03.434Z\" ] ],\r\n",
      "        [ :content [ a <https://schema.humancellatlas.org/type/process/sequencing/5.1.0/sequencing_process> ;\r\n",
      "                    :instrument_manufacturer_model [ :text \"Illumina NextSeq 500\" ] ;\r\n",
      "                    :paired_ends true ;\r\n",
      "                    :process_core [ :process_id \"seq_proc_1\" ] ;\r\n",
      "                    :schema_type \"process\" ;\r\n",
      "                    :smartseq2 [ :plate_id \"1001000173\" ;\r\n",
      "                            :well_name \"G8\" ] ] ;\r\n",
      "            :hca_ingest [ :accession \"\" ;\r\n",
      "                    :document_id :dd572bad-3fcb-430b-b010-eed787092b80 ;\r\n",
      "                    :submissionDate \"2018-03-19T18:42:25.635Z\" ;\r\n",
      "                    :updateDate \"2018-03-19T19:09:24.606Z\" ] ] ;\r\n",
      "    :schema_type \"process_bundle\" ;\r\n",
      "    :schema_version \"5.2.1\" .\r\n",
      "\r\n",
      "<https://dss.dev.data.humancellatlas.org/v1/files/566e00d8-1bc6-4b02-9435-ec201d323de4> a <https://schema.humancellatlas.org/bundle/1.0.0/file> ;\r\n",
      "    :files [ :content [ a <https://schema.humancellatlas.org/type/file/5.1.0/sequence_file> ;\r\n",
      "                    :file_core [ :file_format \"fastq.gz\" ;\r\n",
      "                            :file_name \"SRR3934349_2.fastq.gz\" ] ;\r\n",
      "                    :read_index \"read2\" ;\r\n",
      "                    :schema_type \"file\" ] ;\r\n",
      "            :hca_ingest [ :document_id :eea66deb-ed7e-4a92-93b7-378afb23a576 ;\r\n",
      "                    :submissionDate \"2018-03-19T18:33:42.832Z\" ] ],\r\n",
      "        [ :content [ a <https://schema.humancellatlas.org/type/file/5.1.0/sequence_file> ;\r\n",
      "                    :file_core [ :file_format \"fastq.gz\" ;\r\n",
      "                            :file_name \"SRR3934349_1.fastq.gz\" ] ;\r\n",
      "                    :read_index \"read1\" ;\r\n",
      "                    :schema_type \"file\" ] ;\r\n",
      "            :hca_ingest [ :document_id <http://rdf.data.humancellatlas.org/8113cdac-3b32-4214-920f-938ccb7d7057> ;\r\n",
      "                    :submissionDate \"2018-03-19T18:33:42.797Z\" ] ] ;\r\n",
      "    :schema_type \"file_bundle\" ;\r\n",
      "    :schema_version \"1.0.0\" .\r\n",
      "\r\n",
      "<https://dss.dev.data.humancellatlas.org/v1/files/5d099076-15d6-43e6-a7d9-d93485135bc8> a <https://schema.humancellatlas.org/bundle/1.0.0/links> ;\r\n",
      "    :links <http://rdf.data.humancellatlas.org/06b9c8bc-081b-49d9-9819-f224d451d2c2>,\r\n",
      "        <http://rdf.data.humancellatlas.org/4dc8591a-a712-4e0d-9006-55534b389a0d>,\r\n",
      "        <http://rdf.data.humancellatlas.org/551adde2-623d-45c2-a020-c6f3bb359f67>,\r\n",
      "        :c739d5a9-89ca-4348-9caf-05bd9a4dc2d8,\r\n",
      "        :d49ae235-0c16-4b5d-bf37-f60af781eafe,\r\n",
      "        :dd2b1009-5b3c-498c-9ab9-431a6aed1f06,\r\n",
      "        :dd572bad-3fcb-430b-b010-eed787092b80 ;\r\n",
      "    :schema_type \"link_bundle\" ;\r\n",
      "    :schema_version \"1.0.0\" .\r\n",
      "\r\n",
      "<https://dss.dev.data.humancellatlas.org/v1/files/6bb8e207-5355-459d-8af9-4afd625a96de> a <https://schema.humancellatlas.org/bundle/5.1.0/protocol> ;\r\n",
      "    :protocols [ :content [ a <https://schema.humancellatlas.org/type/protocol/5.1.0/protocol> ;\r\n",
      "                    :protocol_core [ :protocol_description \"dissociating tissues into single cells\" ;\r\n",
      "                            :protocol_id \"dis_protocol_1\" ] ;\r\n",
      "                    :schema_type \"protocol\" ] ;\r\n",
      "            :hca_ingest [ :accession \"\" ;\r\n",
      "                    :document_id :ddcf6f8b-2818-4705-8bf3-6ff1c1ba2639 ;\r\n",
      "                    :submissionDate \"2018-03-19T18:23:48.338Z\" ;\r\n",
      "                    :updateDate \"2018-03-19T18:23:57.461Z\" ] ],\r\n",
      "        [ :content [ a <https://schema.humancellatlas.org/type/protocol/5.1.0/protocol> ;\r\n",
      "                    :protocol_core [ :protocol_description \"SmartSeq2 sequencing protocol\" ;\r\n",
      "                            :protocol_id \"seq_protocol_1\" ] ;\r\n",
      "                    :schema_type \"protocol\" ] ;\r\n",
      "            :hca_ingest [ :accession \"\" ;\r\n",
      "                    :document_id <http://rdf.data.humancellatlas.org/15b0a2c0-e4eb-4765-885b-8ec020cceefd> ;\r\n",
      "                    :submissionDate \"2018-03-19T18:23:48.395Z\" ;\r\n",
      "                    :updateDate \"2018-03-19T18:23:57.425Z\" ] ],\r\n",
      "        [ :content [ a <https://schema.humancellatlas.org/type/protocol/5.1.0/protocol> ;\r\n",
      "                    :protocol_core [ :protocol_description \"single-cell sorting in 96-well plates followed by cDNA preparation using Smart-seq2\" ;\r\n",
      "                            :protocol_id \"lib_prep_protocol_1\" ] ;\r\n",
      "                    :protocol_type [ :ontology <http://rdf.data.humancellatlas.org/EFO:0004184> ;\r\n",
      "                            :text \"nucleic acid library construction protocol\" ] ;\r\n",
      "                    :schema_type \"protocol\" ] ;\r\n",
      "            :hca_ingest [ :accession \"\" ;\r\n",
      "                    :document_id <http://rdf.data.humancellatlas.org/3c7df116-735a-4a18-aae1-79524c8aca42> ;\r\n",
      "                    :submissionDate \"2018-03-19T18:23:48.380Z\" ;\r\n",
      "                    :updateDate \"2018-03-19T18:23:57.429Z\" ] ] ;\r\n",
      "    :schema_type \"protocol_bundle\" ;\r\n",
      "    :schema_version \"5.1.0\" .\r\n",
      "\r\n",
      "<https://dss.dev.data.humancellatlas.org/v1/files/9b9dd6db-e1ab-4043-946d-4bf976c11d26> a <https://schema.humancellatlas.org/bundle/5.1.0/project> ;\r\n",
      "    :content [ a <https://schema.humancellatlas.org/type/project/5.1.0/project> ;\r\n",
      "            :contributors [ :address \"Clark Center, E300; Stanford, California 94305 USA\" ;\r\n",
      "                    :contact_name \"Spyros,,Darmanis\" ;\r\n",
      "                    :country \"USA\" ;\r\n",
      "                    :email \"spyros.darmanis@gmail.com\" ;\r\n",
      "                    :institution \"Stanford University\" ;\r\n",
      "                    :laboratory \"Stephen Quake\" ;\r\n",
      "                    :phone \"650-696-0861\" ] ;\r\n",
      "            :geo_series \"GSE84465\" ;\r\n",
      "            :project_core [ :project_description \"We used single-cell RNAseq to investigate the heterogeneity of glioblastoma tumors and assess differential expression between cells within and in proximity of the tumor.\" ;\r\n",
      "                    :project_shortname \"Glioblastoma_medium\" ;\r\n",
      "                    :project_title \"Single-Cell RNAseq analysis of diffuse neoplastic infiltrating cells at the migrating front of human glioblastoma\" ] ;\r\n",
      "            :publications [ :authors \"Barres BA\",\r\n",
      "                        \"Caneda C\",\r\n",
      "                        \"Chang SD\",\r\n",
      "                        \"Chernikova S\",\r\n",
      "                        \"Connolly ID\",\r\n",
      "                        \"Croote D\",\r\n",
      "                        \"Darmanis S\",\r\n",
      "                        \"Gephart MH\",\r\n",
      "                        \"Kowarsky M\",\r\n",
      "                        \"Li G\",\r\n",
      "                        \"Li Y\",\r\n",
      "                        \"Mignardi M\",\r\n",
      "                        \"Neff N\",\r\n",
      "                        \"Quake SR\",\r\n",
      "                        \"Samghababi P\",\r\n",
      "                        \"Sloan SA\",\r\n",
      "                        \"Zhang Y\" ;\r\n",
      "                    :doi \"10.1016/j.celrep.2017.10.030\" ;\r\n",
      "                    :pmid 29091775 ;\r\n",
      "                    :publication_title \"Single-Cell RNA-Seq Analysis of Infiltrating Neoplastic Cells at the Migrating Front of Human Glioblastoma\" ;\r\n",
      "                    :publication_url \"http://www.cell.com/cell-reports/fulltext/S2211-1247(17)31462-6\" ] ;\r\n",
      "            :schema_type \"project\" ;\r\n",
      "            :supplementary_files \"ftp://ftp.ncbi.nlm.nih.gov/geo/series/GSE84nnn/GSE84465/suppl/GSE84465_GBM_All_data.csv.gz\",\r\n",
      "                \"ftp://ftp.ncbi.nlm.nih.gov/geo/series/GSE84nnn/GSE84465/suppl/GSE84465_RAW.tar\" ] ;\r\n",
      "    :hca_ingest [ :accession \"\" ;\r\n",
      "            :document_id :ecd4c215-f4eb-4449-8c50-ae3160f1d428 ;\r\n",
      "            :submissionDate \"2018-03-19T18:23:48.276Z\" ;\r\n",
      "            :updateDate \"2018-03-19T18:23:58.456Z\" ] ;\r\n",
      "    :schema_type \"project_bundle\" ;\r\n",
      "    :schema_version \"5.1.0\" .\r\n",
      "\r\n",
      "<https://dss.dev.data.humancellatlas.org/v1/files/a5d42509-60c1-40b0-bcc5-badb56b479a8> a <https://schema.humancellatlas.org/bundle/5.1.0/biomaterial> ;\r\n",
      "    :biomaterials [ :content [ a <https://schema.humancellatlas.org/type/biomaterial/5.1.0/donor_organism> ;\r\n",
      "                    :biological_sex \"unknown\" ;\r\n",
      "                    :biomaterial_core [ :biomaterial_id \"BT_S2\" ;\r\n",
      "                            :ncbi_taxon_id 9606 ] ;\r\n",
      "                    :genus_species [ :ontology <http://purl.obolibrary.org/obo/NCBITaxon_9606> ;\r\n",
      "                            :text \"Homo sapiens\" ] ;\r\n",
      "                    :is_living true ;\r\n",
      "                    :schema_type \"biomaterial\" ] ;\r\n",
      "            :hca_ingest [ :accession \"\" ;\r\n",
      "                    :document_id <http://rdf.data.humancellatlas.org/551adde2-623d-45c2-a020-c6f3bb359f67> ;\r\n",
      "                    :submissionDate \"2018-03-19T18:26:18.440Z\" ;\r\n",
      "                    :updateDate \"2018-03-19T18:33:40.387Z\" ] ],\r\n",
      "        [ :content [ a <https://schema.humancellatlas.org/type/biomaterial/5.1.0/cell_suspension> ;\r\n",
      "                    :biomaterial_core [ :biomaterial_id \"GSM2243439\" ;\r\n",
      "                            :biomaterial_name \"Single cell from Tumor,1001000173.G8\" ;\r\n",
      "                            :biosd_biomaterial \"SAMN05421106\" ;\r\n",
      "                            :has_input_biomaterial \"BT_S2_T\" ;\r\n",
      "                            :ncbi_taxon_id 9606 ;\r\n",
      "                            :supplementary_files \"ftp://ftp.ncbi.nlm.nih.gov/geo/samples/GSM2243nnn/GSM2243439/suppl/GSM2243439_1001000173.G8.csv.gz\" ] ;\r\n",
      "                    :genus_species [ :ontology <http://purl.obolibrary.org/obo/NCBITaxon_9606> ;\r\n",
      "                            :text \"Homo sapiens\" ] ;\r\n",
      "                    :schema_type \"biomaterial\" ;\r\n",
      "                    :total_estimated_cells 1 ] ;\r\n",
      "            :hca_ingest [ :accession \"\" ;\r\n",
      "                    :document_id <http://rdf.data.humancellatlas.org/06b9c8bc-081b-49d9-9819-f224d451d2c2> ;\r\n",
      "                    :submissionDate \"2018-03-19T18:30:07.043Z\" ;\r\n",
      "                    :updateDate \"2018-03-19T19:32:46.987Z\" ] ],\r\n",
      "        [ :content [ a <https://schema.humancellatlas.org/type/biomaterial/5.1.0/specimen_from_organism> ;\r\n",
      "                    :biomaterial_core [ :biomaterial_description \"Tumor\" ;\r\n",
      "                            :biomaterial_id \"BT_S2_T\" ;\r\n",
      "                            :has_input_biomaterial \"BT_S2\" ;\r\n",
      "                            :ncbi_taxon_id 9606 ] ;\r\n",
      "                    :genus_species [ :ontology <http://purl.obolibrary.org/obo/NCBITaxon_9606> ;\r\n",
      "                            :text \"Homo sapiens\" ] ;\r\n",
      "                    :organ [ :ontology <http://purl.obolibrary.org/obo/UBERON_0000955> ;\r\n",
      "                            :text \"brain\" ] ;\r\n",
      "                    :organ_part [ :text \"temporal lobe\" ] ;\r\n",
      "                    :schema_type \"biomaterial\" ] ;\r\n",
      "            :hca_ingest [ :accession \"\" ;\r\n",
      "                    :document_id :d49ae235-0c16-4b5d-bf37-f60af781eafe ;\r\n",
      "                    :submissionDate \"2018-03-19T18:29:40.844Z\" ;\r\n",
      "                    :updateDate \"2018-03-19T19:29:34.647Z\" ] ] ;\r\n",
      "    :schema_type \"biomaterial_bundle\" ;\r\n",
      "    :schema_version \"5.1.0\" .\r\n",
      "\r\n",
      "<http://rdf.data.humancellatlas.org/551adde2-623d-45c2-a020-c6f3bb359f67> :destination_type \"process\" ;\r\n",
      "    :links :dd2b1009-5b3c-498c-9ab9-431a6aed1f06 ;\r\n",
      "    :source_type \"biomaterial\" .\r\n",
      "\r\n",
      "<http://rdf.data.humancellatlas.org/06b9c8bc-081b-49d9-9819-f224d451d2c2> :destination_type \"library_preparation_process\",\r\n",
      "        \"sequencing_process\" ;\r\n",
      "    :links <http://rdf.data.humancellatlas.org/4dc8591a-a712-4e0d-9006-55534b389a0d>,\r\n",
      "        :dd572bad-3fcb-430b-b010-eed787092b80 ;\r\n",
      "    :source_type \"biomaterial\" .\r\n",
      "\r\n",
      "<http://rdf.data.humancellatlas.org/4dc8591a-a712-4e0d-9006-55534b389a0d> :destination_type \"file\",\r\n",
      "        \"protocol\" ;\r\n",
      "    :links <http://rdf.data.humancellatlas.org/3c7df116-735a-4a18-aae1-79524c8aca42>,\r\n",
      "        <http://rdf.data.humancellatlas.org/8113cdac-3b32-4214-920f-938ccb7d7057>,\r\n",
      "        :eea66deb-ed7e-4a92-93b7-378afb23a576 ;\r\n",
      "    :source_type \"library_preparation_process\" .\r\n",
      "\r\n",
      ":c739d5a9-89ca-4348-9caf-05bd9a4dc2d8 :destination_type \"biomaterial\",\r\n",
      "        \"protocol\" ;\r\n",
      "    :links <http://rdf.data.humancellatlas.org/06b9c8bc-081b-49d9-9819-f224d451d2c2>,\r\n",
      "        :ddcf6f8b-2818-4705-8bf3-6ff1c1ba2639 ;\r\n",
      "    :source_type \"dissociation_process\" .\r\n",
      "\r\n",
      ":d49ae235-0c16-4b5d-bf37-f60af781eafe :destination_type \"dissociation_process\" ;\r\n",
      "    :links :c739d5a9-89ca-4348-9caf-05bd9a4dc2d8 ;\r\n",
      "    :source_type \"biomaterial\" .\r\n",
      "\r\n",
      ":dd2b1009-5b3c-498c-9ab9-431a6aed1f06 :destination_type \"biomaterial\" ;\r\n",
      "    :links :d49ae235-0c16-4b5d-bf37-f60af781eafe ;\r\n",
      "    :source_type \"process\" .\r\n",
      "\r\n",
      ":dd572bad-3fcb-430b-b010-eed787092b80 :destination_type \"file\",\r\n",
      "        \"protocol\" ;\r\n",
      "    :links <http://rdf.data.humancellatlas.org/15b0a2c0-e4eb-4765-885b-8ec020cceefd>,\r\n",
      "        <http://rdf.data.humancellatlas.org/8113cdac-3b32-4214-920f-938ccb7d7057>,\r\n",
      "        :eea66deb-ed7e-4a92-93b7-378afb23a576 ;\r\n",
      "    :source_type \"sequencing_process\" .\r\n",
      "\r\n"
     ]
    }
   ],
   "source": [
    "!curl https://p2tjtw12mg.execute-api.us-east-1.amazonaws.com/api/4be0071d-b36e-4414-a7ee-7b879f60be7c"
   ]
  },
  {
   "cell_type": "markdown",
   "metadata": {},
   "source": [
    "## Helping out!"
   ]
  },
  {
   "cell_type": "markdown",
   "metadata": {},
   "source": [
    "There are open issues to make this service as useful as possible, notably, content negotiation for the response!\n",
    "\n",
    "https://github.com/david4096/hca-bundle-jsonld-lambda/issues"
   ]
  },
  {
   "cell_type": "code",
   "execution_count": null,
   "metadata": {},
   "outputs": [],
   "source": []
  }
 ],
 "metadata": {
  "kernelspec": {
   "display_name": "Python 2",
   "language": "python",
   "name": "python2"
  },
  "language_info": {
   "codemirror_mode": {
    "name": "ipython",
    "version": 2
   },
   "file_extension": ".py",
   "mimetype": "text/x-python",
   "name": "python",
   "nbconvert_exporter": "python",
   "pygments_lexer": "ipython2",
   "version": "2.7.12+"
  }
 },
 "nbformat": 4,
 "nbformat_minor": 2
}
